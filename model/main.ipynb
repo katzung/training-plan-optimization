{
 "cells": [
  {
   "cell_type": "markdown",
   "metadata": {},
   "source": [
    "# Задача о планировании тренировок \n",
    "# (в первом приближении)"
   ]
  },
  {
   "cell_type": "markdown",
   "metadata": {},
   "source": [
    "Модель представляет из себя расписание тренировок для команды.\n",
    "\n",
    "#### __Мотивация__: \n",
    "\n",
    "в студенческих командах зачастую ограничены ресурсы, а именно:\n",
    "- имеется ограниченное количество тренировок (слишком малое)\n",
    "- игрокам не позволяет расписание всегда присутствовать на всех тренировках\n",
    "Существующие тренировочные программы рассчитаны на больший ресурс, поэтому в описанном положении становятся менее эффективными\n",
    "\n",
    "#### __Решение__: \n",
    "\n",
    "составить такое расписание, которое будет учитывать расписание игроков и их индивидуальные потребности в развитии по\n",
    "трем направлениям: \n",
    "- техника \n",
    "- физическая подготовка \n",
    "- командные взаимодействия\n",
    "\n",
    "Таким образом, расписание должно расставлять упражнения в том порядке, в котором они принесут наибольшую пользу игрокам.\n",
    "\n",
    "В качестве *параметров* модели обсуждаются вместе с игроками и тренером их потребности в различных упражнениях в процентном соотношении, а также собственно то, насколько различные упражнения закрывают ту или иную потребность\n",
    "\n",
    "В качестве *переменных* определяется собственно расписание упражнений\n",
    "\n",
    "В качестве *целевой функции* нужно выбрать какую-то общую характеристику, основывающуюся на закрытии потребностей всех игроков по отдельности.\n",
    "\n"
   ]
  },
  {
   "cell_type": "markdown",
   "metadata": {},
   "source": [
    "#### Множества индексов:\n",
    "\n",
    "I = {1, ..., I} - игроки\n",
    "\n",
    "J = {1, ..., J} - упражнения\n",
    "\n",
    "K = {1, ..., T} - минуты в течение тренировочного плана (длительность тренировки * количество)"
   ]
  },
  {
   "cell_type": "markdown",
   "metadata": {},
   "source": [
    "#### Параметры:\n",
    "\n",
    "(в процентах)\n",
    "\n",
    "0 <= a[i] <= 1 - потребность игрока i в упражнениях на технику \n",
    "\n",
    "0 <= b[i] <= 1 - потребность игрока i в упражнениях на физику\n",
    "\n",
    "0 <= c[i] <= 1 - потребность игрока i в командных упражнениях\n",
    "\n",
    "a[i]+b[i]+c[i] = 1\n",
    "\n",
    "d[i][k] - способность игрока i присутствовать в k-ую минуту тренировочного процесса\n",
    "\n",
    "0 <= aa[j] <= 1 - удовлетворение потребности в упражнениях на технику j-ым упражнением\n",
    "\n",
    "0 <= bb[j] <= 1 - удовлетворение потребности в упражнениях на физику j-ым упражнением\n",
    "\n",
    "0 <= cc[j] <= 1 - удовлетворение потребности в командных упражнениях j-ым упражнением\n",
    "\n",
    "aa[j]+bb[j]+cc[j] = 1\n",
    "\n",
    "t[j] - длительность j-го упражнения"
   ]
  },
  {
   "cell_type": "markdown",
   "metadata": {},
   "source": [
    "#### Переменные:\n",
    "\n",
    "x[k][j] = 1 - если в минуту k идет упражнение j, 0 - иначе\n",
    "\n",
    "y[k][j] = 1 - если в минуту k начинается упражнение j, 0 - иначе\n",
    "\n",
    "\n",
    "Нужно поиграться с ограничениями, чтобы можно было отказаться либо от y, либо от x"
   ]
  },
  {
   "cell_type": "markdown",
   "metadata": {},
   "source": [
    "#### Целевая функция:\n",
    "\n",
    "Для начала вычисляем максимальную возможную реализацию всех потребностей\n",
    "\n",
    "fa*[i] = сумма_по_k_от_1_до_T(d[i][k]) * a[i] - максимальное возможное удовлетворение потребности игрока i в упражнениях на технику\n",
    "\n",
    "fb*[i] = сумма_по_k_от_1_до_T(d[i][k]) * b[i] - максимальное возможное удовлетворение потребности игрока i в упражнениях на физику\n",
    "\n",
    "fc*[i] = сумма_по_k_от_1_до_T(d[i][k]) * c[i] - максимальное возможное удовлетворение потребности игрока i в упражнениях на командные взаимодействия\n",
    "\n",
    "Далее посчитаем, как модель удовлетворяет потребности на самом деле:\n",
    "\n",
    "fa[i] = сумма_по_k_от_1_до_T(d[i][k] * сумма_по_j_от_1_до_J(x[k][j]\\*aa[j])) / fa\\*[i] - реальное удовлетворение потребности игрока i в упражнениях на технику\n",
    "\n",
    "fb[i] = сумма_по_k_от_1_до_T(d[i][k] * сумма_по_j_от_1_до_J(x[k][j]\\*bb[j])) / fb\\*[i] - реальное удовлетворение потребности игрока i в упражнениях на физику\n",
    "\n",
    "fc[i] = сумма_по_k_от_1_до_T(d[i][k] * сумма_по_j_от_1_до_J(x[k][j]\\*cc[j])) / fc\\*[i] - реальное удовлетворение потребности игрока i в упражнениях на командные взаимодействия\n",
    "\n",
    "Целевая функция должна как-то агрегировать эти значения, пока что будет усреднять:\n",
    "\n",
    "f = сумма_по_i_от_1_до_I(fa[i]+fb[i]+fc[i])"
   ]
  },
  {
   "cell_type": "markdown",
   "metadata": {},
   "source": [
    "### Установка зависимостей (делается один раз, потом иногда можно обновлять, но необязательно)"
   ]
  },
  {
   "cell_type": "code",
   "execution_count": 2,
   "metadata": {},
   "outputs": [
    {
     "name": "stderr",
     "output_type": "stream",
     "text": [
      "\u001b[32m\u001b[1m   Resolving\u001b[22m\u001b[39m package versions...\n",
      "\u001b[32m\u001b[1m   Installed\u001b[22m\u001b[39m JSON ───────────────── v0.21.4\n",
      "\u001b[32m\u001b[1m   Installed\u001b[22m\u001b[39m IrrationalConstants ── v0.2.4\n",
      "\u001b[32m\u001b[1m   Installed\u001b[22m\u001b[39m DiffResults ────────── v1.1.0\n",
      "\u001b[32m\u001b[1m   Installed\u001b[22m\u001b[39m Preferences ────────── v1.4.3\n",
      "\u001b[32m\u001b[1m   Installed\u001b[22m\u001b[39m JSON3 ──────────────── v1.14.1\n",
      "\u001b[32m\u001b[1m   Installed\u001b[22m\u001b[39m DiffRules ──────────── v1.15.1\n",
      "\u001b[32m\u001b[1m   Installed\u001b[22m\u001b[39m SpecialFunctions ───── v2.5.0\n",
      "\u001b[32m\u001b[1m   Installed\u001b[22m\u001b[39m MutableArithmetics ─── v1.6.3\n",
      "\u001b[32m\u001b[1m   Installed\u001b[22m\u001b[39m BenchmarkTools ─────── v1.6.0\n",
      "\u001b[32m\u001b[1m   Installed\u001b[22m\u001b[39m Bzip2_jll ──────────── v1.0.9+0\n",
      "\u001b[32m\u001b[1m   Installed\u001b[22m\u001b[39m Parsers ────────────── v2.8.1\n",
      "\u001b[32m\u001b[1m   Installed\u001b[22m\u001b[39m CodecBzip2 ─────────── v0.8.5\n",
      "\u001b[32m\u001b[1m   Installed\u001b[22m\u001b[39m StaticArraysCore ───── v1.4.3\n",
      "\u001b[32m\u001b[1m   Installed\u001b[22m\u001b[39m JLLWrappers ────────── v1.7.0\n",
      "\u001b[32m\u001b[1m   Installed\u001b[22m\u001b[39m PrecompileTools ────── v1.2.1\n",
      "\u001b[32m\u001b[1m   Installed\u001b[22m\u001b[39m NaNMath ────────────── v1.1.2\n",
      "\u001b[32m\u001b[1m   Installed\u001b[22m\u001b[39m OrderedCollections ─── v1.8.0\n",
      "\u001b[32m\u001b[1m   Installed\u001b[22m\u001b[39m TranscodingStreams ─── v0.11.3\n",
      "\u001b[32m\u001b[1m   Installed\u001b[22m\u001b[39m Statistics ─────────── v1.11.1\n",
      "\u001b[32m\u001b[1m   Installed\u001b[22m\u001b[39m DataStructures ─────── v0.18.20\n",
      "\u001b[32m\u001b[1m   Installed\u001b[22m\u001b[39m MacroTools ─────────── v0.5.15\n",
      "\u001b[32m\u001b[1m   Installed\u001b[22m\u001b[39m JuMP ───────────────── v1.24.0\n",
      "\u001b[32m\u001b[1m   Installed\u001b[22m\u001b[39m OpenSpecFun_jll ────── v0.5.6+0\n",
      "\u001b[32m\u001b[1m   Installed\u001b[22m\u001b[39m CodecZlib ──────────── v0.7.8\n",
      "\u001b[32m\u001b[1m   Installed\u001b[22m\u001b[39m Compat ─────────────── v4.16.0\n",
      "\u001b[32m\u001b[1m   Installed\u001b[22m\u001b[39m StructTypes ────────── v1.11.0\n",
      "\u001b[32m\u001b[1m   Installed\u001b[22m\u001b[39m DocStringExtensions ── v0.9.3\n",
      "\u001b[32m\u001b[1m   Installed\u001b[22m\u001b[39m MathOptInterface ───── v1.36.0\n",
      "\u001b[32m\u001b[1m   Installed\u001b[22m\u001b[39m CommonSubexpressions ─ v0.3.1\n",
      "\u001b[32m\u001b[1m   Installed\u001b[22m\u001b[39m ForwardDiff ────────── v0.10.38\n",
      "\u001b[32m\u001b[1m   Installed\u001b[22m\u001b[39m LogExpFunctions ────── v0.3.29\n",
      "\u001b[32m\u001b[1m    Updating\u001b[22m\u001b[39m `C:\\Users\\Roman\\.julia\\environments\\v1.11\\Project.toml`\n",
      "  \u001b[90m[4076af6c] \u001b[39m\u001b[92m+ JuMP v1.24.0\u001b[39m\n",
      "\u001b[32m\u001b[1m    Updating\u001b[22m\u001b[39m `C:\\Users\\Roman\\.julia\\environments\\v1.11\\Manifest.toml`\n",
      "  \u001b[90m[6e4b80f9] \u001b[39m\u001b[92m+ BenchmarkTools v1.6.0\u001b[39m\n",
      "  \u001b[90m[523fee87] \u001b[39m\u001b[92m+ CodecBzip2 v0.8.5\u001b[39m\n",
      "  \u001b[90m[944b1d66] \u001b[39m\u001b[92m+ CodecZlib v0.7.8\u001b[39m\n",
      "  \u001b[90m[bbf7d656] \u001b[39m\u001b[92m+ CommonSubexpressions v0.3.1\u001b[39m\n",
      "  \u001b[90m[34da2185] \u001b[39m\u001b[92m+ Compat v4.16.0\u001b[39m\n",
      "  \u001b[90m[864edb3b] \u001b[39m\u001b[92m+ DataStructures v0.18.20\u001b[39m\n",
      "  \u001b[90m[163ba53b] \u001b[39m\u001b[92m+ DiffResults v1.1.0\u001b[39m\n",
      "  \u001b[90m[b552c78f] \u001b[39m\u001b[92m+ DiffRules v1.15.1\u001b[39m\n",
      "  \u001b[90m[ffbed154] \u001b[39m\u001b[92m+ DocStringExtensions v0.9.3\u001b[39m\n",
      "  \u001b[90m[f6369f11] \u001b[39m\u001b[92m+ ForwardDiff v0.10.38\u001b[39m\n",
      "  \u001b[90m[92d709cd] \u001b[39m\u001b[92m+ IrrationalConstants v0.2.4\u001b[39m\n",
      "  \u001b[90m[692b3bcd] \u001b[39m\u001b[92m+ JLLWrappers v1.7.0\u001b[39m\n",
      "  \u001b[90m[682c06a0] \u001b[39m\u001b[92m+ JSON v0.21.4\u001b[39m\n",
      "  \u001b[90m[0f8b85d8] \u001b[39m\u001b[92m+ JSON3 v1.14.1\u001b[39m\n",
      "  \u001b[90m[4076af6c] \u001b[39m\u001b[92m+ JuMP v1.24.0\u001b[39m\n",
      "  \u001b[90m[2ab3a3ac] \u001b[39m\u001b[92m+ LogExpFunctions v0.3.29\u001b[39m\n",
      "  \u001b[90m[1914dd2f] \u001b[39m\u001b[92m+ MacroTools v0.5.15\u001b[39m\n",
      "  \u001b[90m[b8f27783] \u001b[39m\u001b[92m+ MathOptInterface v1.36.0\u001b[39m\n",
      "  \u001b[90m[d8a4904e] \u001b[39m\u001b[92m+ MutableArithmetics v1.6.3\u001b[39m\n",
      "  \u001b[90m[77ba4419] \u001b[39m\u001b[92m+ NaNMath v1.1.2\u001b[39m\n",
      "  \u001b[90m[bac558e1] \u001b[39m\u001b[92m+ OrderedCollections v1.8.0\u001b[39m\n",
      "  \u001b[90m[69de0a69] \u001b[39m\u001b[92m+ Parsers v2.8.1\u001b[39m\n",
      "  \u001b[90m[aea7be01] \u001b[39m\u001b[92m+ PrecompileTools v1.2.1\u001b[39m\n",
      "  \u001b[90m[21216c6a] \u001b[39m\u001b[92m+ Preferences v1.4.3\u001b[39m\n",
      "  \u001b[90m[276daf66] \u001b[39m\u001b[92m+ SpecialFunctions v2.5.0\u001b[39m\n",
      "  \u001b[90m[1e83bf80] \u001b[39m\u001b[92m+ StaticArraysCore v1.4.3\u001b[39m\n",
      "  \u001b[90m[10745b16] \u001b[39m\u001b[92m+ Statistics v1.11.1\u001b[39m\n",
      "  \u001b[90m[856f2bd8] \u001b[39m\u001b[92m+ StructTypes v1.11.0\u001b[39m\n",
      "  \u001b[90m[3bb67fe8] \u001b[39m\u001b[92m+ TranscodingStreams v0.11.3\u001b[39m\n",
      "  \u001b[90m[6e34b625] \u001b[39m\u001b[92m+ Bzip2_jll v1.0.9+0\u001b[39m\n",
      "  \u001b[90m[efe28fd5] \u001b[39m\u001b[92m+ OpenSpecFun_jll v0.5.6+0\u001b[39m\n",
      "  \u001b[90m[56f22d72] \u001b[39m\u001b[92m+ Artifacts v1.11.0\u001b[39m\n",
      "  \u001b[90m[2a0f44e3] \u001b[39m\u001b[92m+ Base64 v1.11.0\u001b[39m\n",
      "  \u001b[90m[ade2ca70] \u001b[39m\u001b[92m+ Dates v1.11.0\u001b[39m\n",
      "  \u001b[90m[b77e0a4c] \u001b[39m\u001b[92m+ InteractiveUtils v1.11.0\u001b[39m\n",
      "  \u001b[90m[76f85450] \u001b[39m\u001b[92m+ LibGit2 v1.11.0\u001b[39m\n",
      "  \u001b[90m[8f399da3] \u001b[39m\u001b[92m+ Libdl v1.11.0\u001b[39m\n",
      "  \u001b[90m[37e2e46d] \u001b[39m\u001b[92m+ LinearAlgebra v1.11.0\u001b[39m\n",
      "  \u001b[90m[56ddb016] \u001b[39m\u001b[92m+ Logging v1.11.0\u001b[39m\n",
      "  \u001b[90m[d6f4376e] \u001b[39m\u001b[92m+ Markdown v1.11.0\u001b[39m\n",
      "  \u001b[90m[a63ad114] \u001b[39m\u001b[92m+ Mmap v1.11.0\u001b[39m\n",
      "  \u001b[90m[ca575930] \u001b[39m\u001b[92m+ NetworkOptions v1.2.0\u001b[39m\n",
      "  \u001b[90m[de0858da] \u001b[39m\u001b[92m+ Printf v1.11.0\u001b[39m\n",
      "  \u001b[90m[9abbd945] \u001b[39m\u001b[92m+ Profile v1.11.0\u001b[39m\n",
      "  \u001b[90m[9a3f8284] \u001b[39m\u001b[92m+ Random v1.11.0\u001b[39m\n",
      "  \u001b[90m[ea8e919c] \u001b[39m\u001b[92m+ SHA v0.7.0\u001b[39m\n",
      "  \u001b[90m[9e88b42a] \u001b[39m\u001b[92m+ Serialization v1.11.0\u001b[39m\n",
      "  \u001b[90m[2f01184e] \u001b[39m\u001b[92m+ SparseArrays v1.11.0\u001b[39m\n",
      "  \u001b[90m[fa267f1f] \u001b[39m\u001b[92m+ TOML v1.0.3\u001b[39m\n",
      "  \u001b[90m[8dfed614] \u001b[39m\u001b[92m+ Test v1.11.0\u001b[39m\n",
      "  \u001b[90m[cf7118a7] \u001b[39m\u001b[92m+ UUIDs v1.11.0\u001b[39m\n",
      "  \u001b[90m[4ec0a83e] \u001b[39m\u001b[92m+ Unicode v1.11.0\u001b[39m\n",
      "  \u001b[90m[e66e0078] \u001b[39m\u001b[92m+ CompilerSupportLibraries_jll v1.1.1+0\u001b[39m\n",
      "  \u001b[90m[e37daf67] \u001b[39m\u001b[92m+ LibGit2_jll v1.7.2+0\u001b[39m\n",
      "  \u001b[90m[29816b5a] \u001b[39m\u001b[92m+ LibSSH2_jll v1.11.0+1\u001b[39m\n",
      "  \u001b[90m[c8ffd9c3] \u001b[39m\u001b[92m+ MbedTLS_jll v2.28.6+0\u001b[39m\n",
      "  \u001b[90m[4536629a] \u001b[39m\u001b[92m+ OpenBLAS_jll v0.3.27+1\u001b[39m\n",
      "  \u001b[90m[05823500] \u001b[39m\u001b[92m+ OpenLibm_jll v0.8.1+2\u001b[39m\n",
      "  \u001b[90m[bea87d4a] \u001b[39m\u001b[92m+ SuiteSparse_jll v7.7.0+0\u001b[39m\n",
      "  \u001b[90m[83775a58] \u001b[39m\u001b[92m+ Zlib_jll v1.2.13+1\u001b[39m\n",
      "  \u001b[90m[8e850b90] \u001b[39m\u001b[92m+ libblastrampoline_jll v5.11.0+0\u001b[39m\n",
      "\u001b[92m\u001b[1mPrecompiling\u001b[22m\u001b[39m project...\n",
      "    712.4 ms\u001b[32m  ✓ \u001b[39m\u001b[90mStaticArraysCore\u001b[39m\n",
      "    806.4 ms\u001b[32m  ✓ \u001b[39m\u001b[90mNaNMath\u001b[39m\n",
      "    846.6 ms\u001b[32m  ✓ \u001b[39m\u001b[90mStatistics\u001b[39m\n",
      "   1019.8 ms\u001b[32m  ✓ \u001b[39m\u001b[90mOrderedCollections\u001b[39m\n",
      "    929.2 ms\u001b[32m  ✓ \u001b[39m\u001b[90mTranscodingStreams\u001b[39m\n",
      "    890.3 ms\u001b[32m  ✓ \u001b[39m\u001b[90mCompat\u001b[39m\n",
      "   1170.8 ms\u001b[32m  ✓ \u001b[39m\u001b[90mStructTypes\u001b[39m\n",
      "    589.1 ms\u001b[32m  ✓ \u001b[39m\u001b[90mDiffResults\u001b[39m\n",
      "   1593.3 ms\u001b[32m  ✓ \u001b[39m\u001b[90mIrrationalConstants\u001b[39m\n",
      "    960.0 ms\u001b[32m  ✓ \u001b[39m\u001b[90mPreferences\u001b[39m\n",
      "    569.1 ms\u001b[32m  ✓ \u001b[39m\u001b[90mCompat → CompatLinearAlgebraExt\u001b[39m\n",
      "    889.2 ms\u001b[32m  ✓ \u001b[39m\u001b[90mDocStringExtensions\u001b[39m\n",
      "    757.3 ms\u001b[32m  ✓ \u001b[39m\u001b[90mCodecZlib\u001b[39m\n",
      "    891.9 ms\u001b[32m  ✓ \u001b[39m\u001b[90mStatistics → SparseArraysExt\u001b[39m\n",
      "    581.9 ms\u001b[32m  ✓ \u001b[39m\u001b[90mPrecompileTools\u001b[39m\n",
      "    647.4 ms\u001b[32m  ✓ \u001b[39m\u001b[90mJLLWrappers\u001b[39m\n",
      "    848.9 ms\u001b[32m  ✓ \u001b[39m\u001b[90mLogExpFunctions\u001b[39m\n",
      "   2722.9 ms\u001b[32m  ✓ \u001b[39m\u001b[90mMacroTools\u001b[39m\n",
      "    792.5 ms\u001b[32m  ✓ \u001b[39m\u001b[90mBzip2_jll\u001b[39m\n",
      "    549.2 ms\u001b[32m  ✓ \u001b[39m\u001b[90mCommonSubexpressions\u001b[39m\n",
      "   1012.8 ms\u001b[32m  ✓ \u001b[39m\u001b[90mOpenSpecFun_jll\u001b[39m\n",
      "   1786.2 ms\u001b[32m  ✓ \u001b[39m\u001b[90mDataStructures\u001b[39m\n",
      "    618.3 ms\u001b[32m  ✓ \u001b[39m\u001b[90mCodecBzip2\u001b[39m\n",
      "   5400.3 ms\u001b[32m  ✓ \u001b[39m\u001b[90mMutableArithmetics\u001b[39m\n",
      "   2349.3 ms\u001b[32m  ✓ \u001b[39m\u001b[90mSpecialFunctions\u001b[39m\n",
      "    584.4 ms\u001b[32m  ✓ \u001b[39m\u001b[90mDiffRules\u001b[39m\n",
      "   2778.2 ms\u001b[32m  ✓ \u001b[39m\u001b[90mForwardDiff\u001b[39m\n",
      "  11681.7 ms\u001b[32m  ✓ \u001b[39m\u001b[90mParsers\u001b[39m\n",
      "   1224.9 ms\u001b[32m  ✓ \u001b[39m\u001b[90mJSON\u001b[39m\n",
      "   1327.5 ms\u001b[32m  ✓ \u001b[39m\u001b[90mBenchmarkTools\u001b[39m\n",
      "   6022.0 ms\u001b[32m  ✓ \u001b[39m\u001b[90mJSON3\u001b[39m\n",
      "  51910.2 ms\u001b[32m  ✓ \u001b[39m\u001b[90mMathOptInterface\u001b[39m\n",
      "  13610.7 ms\u001b[32m  ✓ \u001b[39mJuMP\n",
      "  33 dependencies successfully precompiled in 87 seconds. 23 already precompiled.\n",
      "\u001b[32m\u001b[1m    Updating\u001b[22m\u001b[39m registry at `C:\\Users\\Roman\\.julia\\registries\\General.toml`\n",
      "\u001b[32m\u001b[1m  No Changes\u001b[22m\u001b[39m to `C:\\Users\\Roman\\.julia\\environments\\v1.11\\Project.toml`\n",
      "\u001b[32m\u001b[1m  No Changes\u001b[22m\u001b[39m to `C:\\Users\\Roman\\.julia\\environments\\v1.11\\Manifest.toml`\n",
      "\u001b[36m\u001b[1m        Info\u001b[22m\u001b[39m We haven't cleaned this depot up for a bit, running Pkg.gc()...\n",
      "\u001b[32m\u001b[1m      Active\u001b[22m\u001b[39m manifest files: 1 found\n",
      "\u001b[32m\u001b[1m      Active\u001b[22m\u001b[39m artifact files: 2 found\n",
      "\u001b[32m\u001b[1m      Active\u001b[22m\u001b[39m scratchspaces: 0 found\n",
      "\u001b[32m\u001b[1m     Deleted\u001b[22m\u001b[39m no artifacts, repos, packages or scratchspaces\n",
      "\u001b[32m\u001b[1m   Resolving\u001b[22m\u001b[39m package versions...\n",
      "\u001b[32m\u001b[1m   Installed\u001b[22m\u001b[39m HiGHS_jll ─ v1.9.0+0\n",
      "\u001b[32m\u001b[1m   Installed\u001b[22m\u001b[39m HiGHS ───── v1.13.0\n",
      "\u001b[32m\u001b[1m    Updating\u001b[22m\u001b[39m `C:\\Users\\Roman\\.julia\\environments\\v1.11\\Project.toml`\n",
      "  \u001b[90m[87dc4568] \u001b[39m\u001b[92m+ HiGHS v1.13.0\u001b[39m\n",
      "\u001b[32m\u001b[1m    Updating\u001b[22m\u001b[39m `C:\\Users\\Roman\\.julia\\environments\\v1.11\\Manifest.toml`\n",
      "  \u001b[90m[87dc4568] \u001b[39m\u001b[92m+ HiGHS v1.13.0\u001b[39m\n",
      "  \u001b[90m[8fd58aa0] \u001b[39m\u001b[92m+ HiGHS_jll v1.9.0+0\u001b[39m\n",
      "\u001b[92m\u001b[1mPrecompiling\u001b[22m\u001b[39m project...\n",
      "    553.8 ms\u001b[32m  ✓ \u001b[39m\u001b[90mHiGHS_jll\u001b[39m\n",
      "   9564.8 ms\u001b[32m  ✓ \u001b[39mHiGHS\n",
      "  2 dependencies successfully precompiled in 10 seconds. 56 already precompiled.\n",
      "\u001b[32m\u001b[1m   Resolving\u001b[22m\u001b[39m package versions...\n",
      "\u001b[32m\u001b[1m   Installed\u001b[22m\u001b[39m Libiconv_jll ─ v1.18.0+0\n",
      "\u001b[32m\u001b[1m   Installed\u001b[22m\u001b[39m XML2_jll ───── v2.13.6+0\n",
      "\u001b[32m\u001b[1m   Installed\u001b[22m\u001b[39m EzXML ──────── v1.2.0\n",
      "\u001b[32m\u001b[1m    Updating\u001b[22m\u001b[39m `C:\\Users\\Roman\\.julia\\environments\\v1.11\\Project.toml`\n",
      "  \u001b[90m[8f5d6c58] \u001b[39m\u001b[92m+ EzXML v1.2.0\u001b[39m\n",
      "\u001b[32m\u001b[1m    Updating\u001b[22m\u001b[39m `C:\\Users\\Roman\\.julia\\environments\\v1.11\\Manifest.toml`\n",
      "  \u001b[90m[8f5d6c58] \u001b[39m\u001b[92m+ EzXML v1.2.0\u001b[39m\n",
      "  \u001b[90m[94ce4f54] \u001b[39m\u001b[92m+ Libiconv_jll v1.18.0+0\u001b[39m\n",
      "  \u001b[90m[02c8fc9c] \u001b[39m\u001b[92m+ XML2_jll v2.13.6+0\u001b[39m\n",
      "\u001b[92m\u001b[1mPrecompiling\u001b[22m\u001b[39m project...\n",
      "    629.2 ms\u001b[32m  ✓ \u001b[39m\u001b[90mLibiconv_jll\u001b[39m\n",
      "    678.1 ms\u001b[32m  ✓ \u001b[39m\u001b[90mXML2_jll\u001b[39m\n",
      "    817.3 ms\u001b[32m  ✓ \u001b[39mEzXML\n",
      "  3 dependencies successfully precompiled in 3 seconds. 58 already precompiled.\n"
     ]
    }
   ],
   "source": [
    "using Pkg\n",
    "\n",
    "Pkg.add(\"JuMP\")\n",
    "Pkg.update(\"JuMP\")\n",
    "Pkg.add(\"HiGHS\")\n",
    "Pkg.add(\"EzXML\")"
   ]
  },
  {
   "cell_type": "markdown",
   "metadata": {},
   "source": [
    "### Инициализация модели"
   ]
  },
  {
   "cell_type": "code",
   "execution_count": 3,
   "metadata": {},
   "outputs": [
    {
     "data": {
      "text/plain": [
       "A JuMP Model\n",
       "├ solver: HiGHS\n",
       "├ objective_sense: FEASIBILITY_SENSE\n",
       "├ num_variables: 0\n",
       "├ num_constraints: 0\n",
       "└ Names registered in the model: none"
      ]
     },
     "metadata": {},
     "output_type": "display_data"
    }
   ],
   "source": [
    "using JuMP\n",
    "using HiGHS\n",
    "using EzXML\n",
    "\n",
    "model = Model(HiGHS.Optimizer)"
   ]
  },
  {
   "cell_type": "markdown",
   "metadata": {},
   "source": [
    "### Оптимизационные переменные"
   ]
  },
  {
   "cell_type": "code",
   "execution_count": 6,
   "metadata": {},
   "outputs": [
    {
     "data": {
      "text/latex": [
       "$ S $"
      ],
      "text/plain": [
       "S"
      ]
     },
     "metadata": {},
     "output_type": "display_data"
    }
   ],
   "source": [
    "@variable(model, x[d = 1:D, j = 1:J], binary = true)\n",
    "@variable(model, S, lower_bound = 0, upper_bound = 1)"
   ]
  },
  {
   "cell_type": "markdown",
   "metadata": {},
   "source": [
    "### Параметры модели"
   ]
  },
  {
   "cell_type": "code",
   "execution_count": null,
   "metadata": {},
   "outputs": [],
   "source": [
    "# Количество слотов в одной тренировке (размер слота - 5 минут)\n",
    "L = 24 \n",
    "\n",
    "# Количество тренировочных дней (24 тренировки - 2 месяца)\n",
    "D = 24\n",
    "\n",
    "# Игроки\n",
    "I = 10\n",
    "\n",
    "# Упражнения\n",
    "J = 10 \n",
    "\n",
    "# Классы упражнений\n",
    "С = 3\n",
    "\n",
    "# Длительность упражнений (l[j] - количество слотов, занимаемых упражнением j)\n",
    "l = zeros(Int, J)\n",
    "for j in 1:J\n",
    "    l[j] = 15\n",
    "end\n",
    "\n",
    "# принадлежность упражнения j к классу c (упражнение может быть полезным по разному)\n",
    "alpha = zeros(Float16, C, J)\n",
    "for c in 1:C\n",
    "    for j in 1:J\n",
    "        alpha[c][j] = 0.33\n",
    "    end\n",
    "end\n",
    "\n",
    "# потребность игрока i в упражнениях класса c\n",
    "gamma = zeros(Float16, C, I)\n",
    "for c in 1:C\n",
    "    for i in 1:I\n",
    "        gamma[c][i] = 0.33\n",
    "    end\n",
    "end\n",
    "\n",
    "# присутствие игрока i в день d\n",
    "d = zeros(Int, I, D)\n",
    "for d in 1:D\n",
    "    for i in 1:I\n",
    "        a[d, i] = 1\n",
    "    end\n",
    "end"
   ]
  },
  {
   "cell_type": "markdown",
   "metadata": {},
   "source": [
    "### Ограничения"
   ]
  },
  {
   "cell_type": "code",
   "execution_count": null,
   "metadata": {},
   "outputs": [],
   "source": [
    "@constraint(model, [d = 1:D], sum(x[d, j]*l[j] for j in 1:J) <= 1) # в каждый момент времени идет только одно упражнение\n",
    "@constraint(model, [i = 1:I], S[i] >= S) # минимальная удовлетворенность не ниже порога"
   ]
  },
  {
   "cell_type": "markdown",
   "metadata": {},
   "source": [
    "### Целевая функция"
   ]
  },
  {
   "cell_type": "code",
   "execution_count": null,
   "metadata": {},
   "outputs": [],
   "source": [
    "# fa_opt = zeros(Float16, I)\n",
    "# fb_opt = zeros(Float16, I)\n",
    "# fc_opt = zeros(Float16, I)\n",
    "# for i in 1:I\n",
    "#     fa_opt[i] = sum(d[i, k] for k in 1:T) * a[i]\n",
    "#     fb_opt[i] = sum(d[i, k] for k in 1:T) * b[i]\n",
    "#     fc_opt[i] = sum(d[i, k] for k in 1:T) * c[i]\n",
    "# end\n",
    "\n",
    "# fa = zeros(AffExpr, I)\n",
    "# fb = zeros(AffExpr, I)\n",
    "# fc = zeros(AffExpr, I)\n",
    "# for i in 1:I\n",
    "#     fa[i] = sum(d[i, k] * sum(x[k, j]*aa[j] for j in 1:J) for k in 1:T) / fa_opt[i]\n",
    "#     fb[i] = sum(d[i, k] * sum(x[k, j]*bb[j] for j in 1:J) for k in 1:T) / fb_opt[i]\n",
    "#     fc[i] = sum(d[i, k] * sum(x[k, j]*cc[j] for j in 1:J) for k in 1:T) / fc_opt[i]\n",
    "# end"
   ]
  },
  {
   "cell_type": "code",
   "execution_count": null,
   "metadata": {},
   "outputs": [
    {
     "data": {
      "text/latex": [
       "$ 0.0003472678853235139 x_{1,1} + 0.0003472678853235139 x_{1,2} + 0.0003472678853235139 x_{1,3} + 0.0003472678853235139 x_{1,4} + 0.0003472678853235139 x_{1,5} + 0.0003472678853235139 x_{1,6} + 0.0003472678853235139 x_{1,7} + 0.0003472678853235139 x_{1,8} + 0.0003472678853235139 x_{1,9} + 0.0003472678853235139 x_{1,10} + 0.0003472678853235139 x_{2,1} + 0.0003472678853235139 x_{2,2} + 0.0003472678853235139 x_{2,3} + 0.0003472678853235139 x_{2,4} + 0.0003472678853235139 x_{2,5} + 0.0003472678853235139 x_{2,6} + 0.0003472678853235139 x_{2,7} + 0.0003472678853235139 x_{2,8} + 0.0003472678853235139 x_{2,9} + 0.0003472678853235139 x_{2,10} + 0.0003472678853235139 x_{3,1} + 0.0003472678853235139 x_{3,2} + 0.0003472678853235139 x_{3,3} + 0.0003472678853235139 x_{3,4} + 0.0003472678853235139 x_{3,5} + 0.0003472678853235139 x_{3,6} + 0.0003472678853235139 x_{3,7} + 0.0003472678853235139 x_{3,8} + 0.0003472678853235139 x_{3,9} + 0.0003472678853235139 x_{3,10} + [[\\ldots\\text{28740 terms omitted}\\ldots]] + 0.0003472678853235139 x_{2878,1} + 0.0003472678853235139 x_{2878,2} + 0.0003472678853235139 x_{2878,3} + 0.0003472678853235139 x_{2878,4} + 0.0003472678853235139 x_{2878,5} + 0.0003472678853235139 x_{2878,6} + 0.0003472678853235139 x_{2878,7} + 0.0003472678853235139 x_{2878,8} + 0.0003472678853235139 x_{2878,9} + 0.0003472678853235139 x_{2878,10} + 0.0003472678853235139 x_{2879,1} + 0.0003472678853235139 x_{2879,2} + 0.0003472678853235139 x_{2879,3} + 0.0003472678853235139 x_{2879,4} + 0.0003472678853235139 x_{2879,5} + 0.0003472678853235139 x_{2879,6} + 0.0003472678853235139 x_{2879,7} + 0.0003472678853235139 x_{2879,8} + 0.0003472678853235139 x_{2879,9} + 0.0003472678853235139 x_{2879,10} + 0.0003472678853235139 x_{2880,1} + 0.0003472678853235139 x_{2880,2} + 0.0003472678853235139 x_{2880,3} + 0.0003472678853235139 x_{2880,4} + 0.0003472678853235139 x_{2880,5} + 0.0003472678853235139 x_{2880,6} + 0.0003472678853235139 x_{2880,7} + 0.0003472678853235139 x_{2880,8} + 0.0003472678853235139 x_{2880,9} + 0.0003472678853235139 x_{2880,10} $"
      ],
      "text/plain": [
       "0.0003472678853235139 x[1,1] + 0.0003472678853235139 x[1,2] + 0.0003472678853235139 x[1,3] + 0.0003472678853235139 x[1,4] + 0.0003472678853235139 x[1,5] + 0.0003472678853235139 x[1,6] + 0.0003472678853235139 x[1,7] + 0.0003472678853235139 x[1,8] + 0.0003472678853235139 x[1,9] + 0.0003472678853235139 x[1,10] + 0.0003472678853235139 x[2,1] + 0.0003472678853235139 x[2,2] + 0.0003472678853235139 x[2,3] + 0.0003472678853235139 x[2,4] + 0.0003472678853235139 x[2,5] + 0.0003472678853235139 x[2,6] + 0.0003472678853235139 x[2,7] + 0.0003472678853235139 x[2,8] + 0.0003472678853235139 x[2,9] + 0.0003472678853235139 x[2,10] + 0.0003472678853235139 x[3,1] + 0.0003472678853235139 x[3,2] + 0.0003472678853235139 x[3,3] + 0.0003472678853235139 x[3,4] + 0.0003472678853235139 x[3,5] + 0.0003472678853235139 x[3,6] + 0.0003472678853235139 x[3,7] + 0.0003472678853235139 x[3,8] + 0.0003472678853235139 x[3,9] + 0.0003472678853235139 x[3,10] + [[...28740 terms omitted...]] + 0.0003472678853235139 x[2878,1] + 0.0003472678853235139 x[2878,2] + 0.0003472678853235139 x[2878,3] + 0.0003472678853235139 x[2878,4] + 0.0003472678853235139 x[2878,5] + 0.0003472678853235139 x[2878,6] + 0.0003472678853235139 x[2878,7] + 0.0003472678853235139 x[2878,8] + 0.0003472678853235139 x[2878,9] + 0.0003472678853235139 x[2878,10] + 0.0003472678853235139 x[2879,1] + 0.0003472678853235139 x[2879,2] + 0.0003472678853235139 x[2879,3] + 0.0003472678853235139 x[2879,4] + 0.0003472678853235139 x[2879,5] + 0.0003472678853235139 x[2879,6] + 0.0003472678853235139 x[2879,7] + 0.0003472678853235139 x[2879,8] + 0.0003472678853235139 x[2879,9] + 0.0003472678853235139 x[2879,10] + 0.0003472678853235139 x[2880,1] + 0.0003472678853235139 x[2880,2] + 0.0003472678853235139 x[2880,3] + 0.0003472678853235139 x[2880,4] + 0.0003472678853235139 x[2880,5] + 0.0003472678853235139 x[2880,6] + 0.0003472678853235139 x[2880,7] + 0.0003472678853235139 x[2880,8] + 0.0003472678853235139 x[2880,9] + 0.0003472678853235139 x[2880,10]"
      ]
     },
     "metadata": {},
     "output_type": "display_data"
    }
   ],
   "source": [
    "@objective(model, Max, S)"
   ]
  },
  {
   "cell_type": "code",
   "execution_count": null,
   "metadata": {},
   "outputs": [
    {
     "name": "stdout",
     "output_type": "stream",
     "text": [
      "Running HiGHS 1.7.2 (git hash: 5ce7a2753): Copyright (c) 2024 HiGHS under MIT licence terms\n",
      "Coefficient ranges:\n",
      "  Matrix [1e+00, 1e+00]\n",
      "  Cost   [3e-04, 3e-04]\n",
      "  Bound  [1e+00, 1e+00]\n",
      "  RHS    [1e+00, 3e+03]\n",
      "Presolving model\n",
      "2880 rows, 28800 cols, 28800 nonzeros  0s\n",
      "0 rows, 2880 cols, 0 nonzeros  0s\n",
      "0 rows, 0 cols, 0 nonzeros  0s\n",
      "Presolve: Optimal\n",
      "\n",
      "Solving report\n",
      "  Status            Optimal\n",
      "  Primal bound      1.00013150973\n",
      "  Dual bound        1.00013150973\n",
      "  Gap               0% (tolerance: 0.01%)\n",
      "  Solution status   feasible\n",
      "                    1.00013150973 (objective)\n",
      "                    0 (bound viol.)\n",
      "                    0 (int. viol.)\n",
      "                    0 (row viol.)\n",
      "  Timing            0.05 (total)\n",
      "                    0.04 (presolve)\n",
      "                    0.00 (postsolve)\n",
      "  Nodes             0\n",
      "  LP iterations     0 (total)\n",
      "                    0 (strong br.)\n",
      "                    0 (separation)\n",
      "                    0 (heuristics)\n"
     ]
    }
   ],
   "source": [
    "optimize!(model)"
   ]
  }
 ],
 "metadata": {
  "kernelspec": {
   "display_name": "Julia 1.11.2",
   "language": "julia",
   "name": "julia-1.11"
  },
  "language_info": {
   "file_extension": ".jl",
   "mimetype": "application/julia",
   "name": "julia",
   "version": "1.11.2"
  }
 },
 "nbformat": 4,
 "nbformat_minor": 2
}
